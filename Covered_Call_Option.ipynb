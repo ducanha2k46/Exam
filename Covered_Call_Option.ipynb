{
 "cells": [
  {
   "cell_type": "markdown",
   "id": "bbda10aa",
   "metadata": {},
   "source": [
    "# Interview project\n",
    "\n",
    "The goal of this project is to build a simple trading bot in Python that sells a daily  covered call option on either Deribit or OKX. You are expected to provide a dashboard to keep track of the portfolio value over time (starting with 1 milion USD). More precisely:\n",
    "\n",
    "- At the beginning of every day (00:00 GMT+0),  sell ONE call option (on BTC or ETH) and buy ONE underlying asset (BTC or ETH). The combination of this  is called covered call option. You have to sell the option using limit orders and buy the underlying asset using market orders. 24h later, the contract will expire and you have to sell a portion of the BTC to pay the option buyer in case the option is exercised, or do nothing if the option expires worthless. At this moment, the old position will be closed and you continue to create a new covered call option.\n",
    "\n",
    "- How does call option work? Assume that  the current price of a BTC is 29900 USD and the seller writes  a daily call option with strike of 30000 USD and sell it for 300 USD (option premium). 24 hour later, the contract will be expired. At this moment, if the price of BTC is less than 30000 USD, then the option expires worthless and the buyer loses 300 USD. On the contrary, if the price of BTC  now is more than 30000 USD, let's say 30500 USD then the option will be exercised and  the option seller will have to pay the option buyer 500 USD, thus the option buyer realizes a gain of 200 USD. Therefore, covered call option allows the option seller to sell a portion of the BTC just enough to cover the payment to the option buyer when the underlying asset increases, but it can also cause a loss to the option seller in case the BTC price decreases more than the option premium collected.\n",
    "\n",
    "- How to calculate the option premium (option price)? You can use the Black-Scholes formula given in the function BS_call_option_pricing. By default, the volatility in the formula is supposed to be the 30-day historical return volatility (given in the historical_volatility function). The spot price is the price of the underlying asset at the moment the option is quoted on the orderbook and because spot price changes constantly, the option price will change constantly too. Therefore you have to update the option price frequently ultil it is matched by a market order on the orderbook. As for strike, you are required to chose the smallest strike that is still larger than the spot price. For example, if the current spot price is 29950 USD, then the strike price will be 30000 USD (the grid size on Deribit is 500 USD and on OKX is 100 USD).\n",
    "\n",
    "You are expected to finish the task within 2 weeks. During the interview, you can communicate with any member of the economics team to better understand the tasks or to provide  updates on the project. After a couple of days if you think that the project is too hard, you can just create a trading bot to trade Bitcoin futures with any strategies of your choice.\n",
    "\n",
    "For more information, see\n",
    "\n",
    "https://www.okx.com/markets/options-list\n",
    "\n",
    "https://www.deribit.com/options/BTC\n",
    "\n",
    "https://goodcalculators.com/black-scholes-calculator/\n",
    "\n",
    "https://www.investopedia.com/terms/c/calloption.asp"
   ]
  },
  {
   "cell_type": "code",
   "execution_count": null,
   "id": "081f1b0e",
   "metadata": {},
   "outputs": [],
   "source": [
    "import pandas as pd\n",
    "import numpy as np\n",
    "from scipy.stats import norm"
   ]
  },
  {
   "cell_type": "code",
   "execution_count": null,
   "id": "ec553be1",
   "metadata": {},
   "outputs": [],
   "source": [
    "# this function calculates the 30-day rolling windows return volatility to plug in the Black Scholes formula below\n",
    "# spot_prices is a dataframe that contains historical daily prices of the underlying assets (open, high, low, close)  \n",
    "def historical_volatility(spot_prices, look_back_period=30):\n",
    "    return_series=spot_prices['close'].pct_change().fillna(0)\n",
    "    return return_series.rolling(look_back_period).std()*np.sqrt(365).fillna(method='bfill')"
   ]
  },
  {
   "cell_type": "code",
   "execution_count": null,
   "id": "a902fba4",
   "metadata": {},
   "outputs": [],
   "source": [
    "# this function calculates the price of a call option that will expire in 24 hours following Black Scholes formula\n",
    "# spot_price is the bitcoin price at the time the call option price is quoted on the orderbook\n",
    "# strike is supposed to be the smallest available strike on the exchange that is still larger than the spot price\n",
    "# volatility is calculated from the above function\n",
    "def BS_call_option_pricing(spot_price, strike, volatility, maturity=1/365, interest_rate=0.03):\n",
    "    d1 = (np.log(spot_price/strike) + (interest_rate + volatility**2/2)*maturity) / (sigma*np.sqrt(maturity))\n",
    "    d2 = d1 - sigma * np.sqrt(maturity)\n",
    "    return S * norm.cdf(d1) - strike * np.exp(-interest_rate*maturity)* norm.cdf(d2)"
   ]
  },
  {
   "cell_type": "markdown",
   "id": "1ead9e85",
   "metadata": {},
   "source": [
    "# TEST\n"
   ]
  },
  {
   "cell_type": "code",
   "execution_count": 3,
   "id": "15fc0e8c",
   "metadata": {},
   "outputs": [
    {
     "ename": "ImportError",
     "evalue": "cannot import name 'crawl_data' from 'src' (unknown location)",
     "output_type": "error",
     "traceback": [
      "\u001b[1;31m---------------------------------------------------------------------------\u001b[0m",
      "\u001b[1;31mImportError\u001b[0m                               Traceback (most recent call last)",
      "\u001b[1;32mc:\\Users\\william.nguyen\\projects\\bot\\Covered_Call_Option.ipynb Cell 6'\u001b[0m in \u001b[0;36m<cell line: 1>\u001b[1;34m()\u001b[0m\n\u001b[1;32m----> <a href='vscode-notebook-cell:/c%3A/Users/william.nguyen/projects/bot/Covered_Call_Option.ipynb#ch0000005?line=0'>1</a>\u001b[0m \u001b[39mfrom\u001b[39;00m \u001b[39msrc\u001b[39;00m \u001b[39mimport\u001b[39;00m crawl_data, Bot\n\u001b[0;32m      <a href='vscode-notebook-cell:/c%3A/Users/william.nguyen/projects/bot/Covered_Call_Option.ipynb#ch0000005?line=1'>2</a>\u001b[0m \u001b[39mfrom\u001b[39;00m \u001b[39msrc\u001b[39;00m\u001b[39m.\u001b[39;00m\u001b[39mconfig\u001b[39;00m\u001b[39m.\u001b[39;00m\u001b[39mconfig\u001b[39;00m \u001b[39mimport\u001b[39;00m TIMEFRAME\n",
      "\u001b[1;31mImportError\u001b[0m: cannot import name 'crawl_data' from 'src' (unknown location)"
     ]
    }
   ],
   "source": [
    "from src import crawl_data, Bot\n",
    "from src.config.config import TIMEFRAME\n"
   ]
  },
  {
   "cell_type": "code",
   "execution_count": 2,
   "id": "ff56c9b9",
   "metadata": {},
   "outputs": [
    {
     "ename": "TypeError",
     "evalue": "'module' object is not callable",
     "output_type": "error",
     "traceback": [
      "\u001b[1;31m---------------------------------------------------------------------------\u001b[0m",
      "\u001b[1;31mTypeError\u001b[0m                                 Traceback (most recent call last)",
      "\u001b[1;32mc:\\Users\\william.nguyen\\projects\\bot\\Covered_Call_Option.ipynb Cell 7'\u001b[0m in \u001b[0;36m<cell line: 6>\u001b[1;34m()\u001b[0m\n\u001b[0;32m      <a href='vscode-notebook-cell:/c%3A/Users/william.nguyen/projects/bot/Covered_Call_Option.ipynb#ch0000006?line=4'>5</a>\u001b[0m timeframe \u001b[39m=\u001b[39m \u001b[39mlist\u001b[39m(TIMEFRAME\u001b[39m.\u001b[39mkeys())\n\u001b[0;32m      <a href='vscode-notebook-cell:/c%3A/Users/william.nguyen/projects/bot/Covered_Call_Option.ipynb#ch0000006?line=5'>6</a>\u001b[0m \u001b[39mfor\u001b[39;00m tf \u001b[39min\u001b[39;00m timeframe:\n\u001b[1;32m----> <a href='vscode-notebook-cell:/c%3A/Users/william.nguyen/projects/bot/Covered_Call_Option.ipynb#ch0000006?line=6'>7</a>\u001b[0m     crawl(symbol, tf, start)\n",
      "\u001b[1;31mTypeError\u001b[0m: 'module' object is not callable"
     ]
    }
   ],
   "source": [
    "start = \"2022-01-01 00:00:00\"\n",
    "symbol = \"BUSD/USDT\"\n",
    "\n",
    "\n",
    "timeframe = list(TIMEFRAME.keys())\n",
    "for tf in timeframe:\n",
    "    crawl(symbol, tf, start)"
   ]
  }
 ],
 "metadata": {
  "kernelspec": {
   "display_name": "Python 3.10.4 ('bot')",
   "language": "python",
   "name": "python3"
  },
  "language_info": {
   "codemirror_mode": {
    "name": "ipython",
    "version": 3
   },
   "file_extension": ".py",
   "mimetype": "text/x-python",
   "name": "python",
   "nbconvert_exporter": "python",
   "pygments_lexer": "ipython3",
   "version": "3.10.4"
  },
  "vscode": {
   "interpreter": {
    "hash": "74c9137c838cbedf1d45ff510c32a1c5f81f7df10c114d5b9c13b0c6da1e7440"
   }
  }
 },
 "nbformat": 4,
 "nbformat_minor": 5
}
