{
 "cells": [
  {
   "cell_type": "code",
   "execution_count": 152,
   "metadata": {},
   "outputs": [],
   "source": [
    "import pandas as pd\n",
    "import time\n",
    "import numpy as np\n",
    "from selenium import webdriver\n",
    "from selenium.webdriver.chrome.service import Service\n",
    "from webdriver_manager.chrome import ChromeDriverManager\n",
    "from selenium.common.exceptions import NoSuchElementException, ElementNotInteractableException\n",
    "from selenium.webdriver.common.by import By\n",
    "from selenium.webdriver.support.ui import WebDriverWait\n",
    "from selenium.webdriver.support import expected_conditions as EC\n",
    "from selenium.common.exceptions import TimeoutException, NoSuchElementException\n"
   ]
  },
  {
   "cell_type": "code",
   "execution_count": 156,
   "metadata": {},
   "outputs": [],
   "source": [
    "service = Service(ChromeDriverManager().install())\n",
    "driver = webdriver.Chrome(service=service)"
   ]
  },
  {
   "cell_type": "code",
   "execution_count": 157,
   "metadata": {},
   "outputs": [
    {
     "name": "stdout",
     "output_type": "stream",
     "text": [
      "Crawl Complete\n"
     ]
    }
   ],
   "source": [
    "def getInfo(link):\n",
    "    driver.get(link)\n",
    "    info, brand, end_date, limit, min, customer = [], [], [], [], [], []\n",
    "    i = 1\n",
    "    labels = WebDriverWait(driver, 10).until(\n",
    "                    EC.presence_of_all_elements_located((By.XPATH, '//*[@id=\"list_coupon\"]/div/div[5]/label'))\n",
    "                )\n",
    "    for label in labels: \n",
    "        label.click()\n",
    "    \n",
    "    screen_height = driver.execute_script(\"return window.screen.height;\")  \n",
    "\n",
    "    while True:\n",
    "        driver.execute_script(\"window.scrollTo(0, {screen_height}*{i});\".format(screen_height=screen_height, i=i))  \n",
    "        i += 1\n",
    "        time.sleep(5)\n",
    "        scroll_height = driver.execute_script(\"return document.body.scrollHeight;\")  \n",
    "        if (screen_height) * i > scroll_height:\n",
    "            break \n",
    "            \n",
    "    brand1 = driver.find_elements(By.XPATH, '//*[@id=\"list_coupon\"]/div/div[2]/a')\n",
    "    brand = [el.find_element(By.TAG_NAME, 'img').get_attribute(\"alt\") for el in brand1] + brand  \n",
    "\n",
    "\n",
    "    info1 =  driver.find_elements(By.XPATH, '//*[@id=\"list_coupon\"]/div/div[3]/p')\n",
    "    info =  [s.text for s in info1] + info\n",
    "\n",
    "    end_date1 =  driver.find_elements(By.XPATH, '//*[@id=\"list_coupon\"]/div/div[5]/div/div[1]/div[2]')\n",
    "    end_date =  [s.text for s in end_date1] + end_date\n",
    "\n",
    "    limit1 =  driver.find_elements(By.XPATH, '//*[@id=\"list_coupon\"]/div/div[5]/div/div[2]/div[2]')\n",
    "    limit =  [s.text for s in limit1] + limit\n",
    "\n",
    "    min1 =  driver.find_elements(By.XPATH, '//*[@id=\"list_coupon\"]/div/div[5]/div/div[3]/div[2]')\n",
    "    min =  [s.text for s in min1] + min\n",
    "\n",
    "    customer1 =  driver.find_elements(By.XPATH, '//*[@id=\"list_coupon\"]/div/div[5]/div/div[4]/div[2]')\n",
    "    customer =  [s.text for s in customer1] + customer\n",
    "    \n",
    "    voucher_data = pd.DataFrame(list(zip(brand, info, end_date, limit, min, customer)),\n",
    "                        columns=['brand', 'info', 'end_date', 'limit', 'min', 'customer']) \n",
    "    print(\"Crawl Complete\")\n",
    "    return voucher_data\n",
    "\n",
    "url = 'https://iprice.vn/coupons/'\n",
    "df = getInfo(url)\n",
    "driver.close()"
   ]
  },
  {
   "cell_type": "code",
   "execution_count": 158,
   "metadata": {},
   "outputs": [],
   "source": [
    "# Lấy file CSV\n",
    "df_unique = df.drop_duplicates(keep='first')\n",
    "df_unique.to_csv('D://Exam/Data.csv', index=False)\n"
   ]
  }
 ],
 "metadata": {
  "kernelspec": {
   "display_name": "Python 3",
   "language": "python",
   "name": "python3"
  },
  "language_info": {
   "codemirror_mode": {
    "name": "ipython",
    "version": 3
   },
   "file_extension": ".py",
   "mimetype": "text/x-python",
   "name": "python",
   "nbconvert_exporter": "python",
   "pygments_lexer": "ipython3",
   "version": "3.12.6"
  }
 },
 "nbformat": 4,
 "nbformat_minor": 2
}
