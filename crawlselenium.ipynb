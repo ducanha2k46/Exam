{
 "cells": [
  {
   "cell_type": "code",
   "execution_count": null,
   "metadata": {},
   "outputs": [],
   "source": [
    "import pandas as pd\n",
    "import time\n",
    "import numpy as np\n",
    "from selenium import webdriver\n",
    "from selenium.webdriver.chrome.service import Service\n",
    "from webdriver_manager.chrome import ChromeDriverManager\n",
    "from selenium.common.exceptions import NoSuchElementException, ElementNotInteractableException\n",
    "from selenium.webdriver.common.by import By\n",
    "from selenium.webdriver.support.ui import WebDriverWait\n",
    "from selenium.webdriver.support import expected_conditions as EC\n",
    "from selenium.common.exceptions import TimeoutException, NoSuchElementException\n"
   ]
  },
  {
   "cell_type": "code",
   "execution_count": 133,
   "metadata": {},
   "outputs": [],
   "source": [
    "service = Service(ChromeDriverManager().install())\n",
    "driver = webdriver.Chrome(service=service)"
   ]
  },
  {
   "cell_type": "code",
   "execution_count": null,
   "metadata": {},
   "outputs": [
    {
     "name": "stdout",
     "output_type": "stream",
     "text": [
      "Clicked on button next page!\n",
      "No more Load More button found or timeout reached.\n"
     ]
    },
    {
     "ename": "NameError",
     "evalue": "name 'screen_height' is not defined",
     "output_type": "error",
     "traceback": [
      "\u001b[1;31m---------------------------------------------------------------------------\u001b[0m",
      "\u001b[1;31mNameError\u001b[0m                                 Traceback (most recent call last)",
      "Cell \u001b[1;32mIn[134], line 69\u001b[0m\n\u001b[0;32m     66\u001b[0m     \u001b[38;5;28;01mreturn\u001b[39;00m coinmarketcap1\n\u001b[0;32m     68\u001b[0m url \u001b[38;5;241m=\u001b[39m \u001b[38;5;124m'\u001b[39m\u001b[38;5;124mhttps://iprice.vn/coupons/\u001b[39m\u001b[38;5;124m'\u001b[39m\n\u001b[1;32m---> 69\u001b[0m df \u001b[38;5;241m=\u001b[39m \u001b[43mgetCoinInfo\u001b[49m\u001b[43m(\u001b[49m\u001b[43murl\u001b[49m\u001b[43m)\u001b[49m\n\u001b[0;32m     70\u001b[0m driver\u001b[38;5;241m.\u001b[39mclose()\n",
      "Cell \u001b[1;32mIn[134], line 30\u001b[0m, in \u001b[0;36mgetCoinInfo\u001b[1;34m(link)\u001b[0m\n\u001b[0;32m     27\u001b[0m         \u001b[38;5;28;01mbreak\u001b[39;00m\n\u001b[0;32m     29\u001b[0m \u001b[38;5;28;01mwhile\u001b[39;00m \u001b[38;5;28;01mTrue\u001b[39;00m:\n\u001b[1;32m---> 30\u001b[0m     driver\u001b[38;5;241m.\u001b[39mexecute_script(\u001b[38;5;124m\"\u001b[39m\u001b[38;5;124mwindow.scrollTo(0, \u001b[39m\u001b[38;5;132;01m{screen_height}\u001b[39;00m\u001b[38;5;124m*\u001b[39m\u001b[38;5;132;01m{i}\u001b[39;00m\u001b[38;5;124m);\u001b[39m\u001b[38;5;124m\"\u001b[39m\u001b[38;5;241m.\u001b[39mformat(screen_height\u001b[38;5;241m=\u001b[39m\u001b[43mscreen_height\u001b[49m, i\u001b[38;5;241m=\u001b[39mi))  \n\u001b[0;32m     31\u001b[0m     i \u001b[38;5;241m+\u001b[39m\u001b[38;5;241m=\u001b[39m \u001b[38;5;241m1\u001b[39m\n\u001b[0;32m     32\u001b[0m     time\u001b[38;5;241m.\u001b[39msleep(\u001b[38;5;241m5\u001b[39m)\n",
      "\u001b[1;31mNameError\u001b[0m: name 'screen_height' is not defined"
     ]
    }
   ],
   "source": [
    "def getCoinInfo(link):\n",
    "    driver.get(link)\n",
    "    count = 1\n",
    "    info, brand, end_date, limit, min, customer = [], [], [], [], [], []\n",
    "    i = 1\n",
    "\n",
    "    #Load tất cả các trang\n",
    "    while True:\n",
    "        try:\n",
    "            # Chờ nút \"Load More\" hiển thị và có thể nhấn\n",
    "            label = WebDriverWait(driver, 10).until(\n",
    "                EC.element_to_be_clickable((By.XPATH, '//*[@id=\"list_coupon\"]/div/div[5]/label'))\n",
    "            )\n",
    "\n",
    "            # Thực hiện click\n",
    "            label.click()\n",
    "            print(\"Clicked on button next page!\")\n",
    "\n",
    "            # Sau khi nhấn, chờ để trang cập nhật và nút tiếp theo xuất hiện\n",
    "            WebDriverWait(driver, 10).until(\n",
    "                EC.staleness_of(label)  # Đợi cho phần tử hiện tại trở nên cũ và bị thay thế bởi phần tử mới\n",
    "            )\n",
    "\n",
    "        except (TimeoutException, NoSuchElementException):\n",
    "            # Nếu không tìm thấy nút hoặc hết thời gian chờ, kết thúc vòng lặp\n",
    "            print(\"No more Load More button found or timeout reached.\")\n",
    "            break\n",
    "    \n",
    "    screen_height = driver.execute_script(\"return window.screen.height;\")   # get the screen height of the web\n",
    "\n",
    "    while True:\n",
    "        driver.execute_script(\"window.scrollTo(0, {screen_height}*{i});\".format(screen_height=screen_height, i=i))  \n",
    "        i += 1\n",
    "        time.sleep(5)\n",
    "        scroll_height = driver.execute_script(\"return document.body.scrollHeight;\")  \n",
    "        if (screen_height) * i > scroll_height:\n",
    "            break \n",
    "            \n",
    "    \n",
    "    # info1 =  driver.find_elements(By.XPATH, '//*[@id=\"list_coupon\"]/div/div[3]/p')\n",
    "    # info =  [s.text for s in info1] + info       \n",
    "    brand1 = driver.find_elements(By.XPATH, '//*[@id=\"list_coupon\"]/div/div[2]/a')\n",
    "    brand = [el.find_element(By.TAG_NAME, 'img').get_attribute(\"alt\") for el in brand1] + brand  \n",
    "    # print(brand)\n",
    "\n",
    "    info1 =  driver.find_elements(By.XPATH, '//*[@id=\"list_coupon\"]/div/div[3]/p')\n",
    "    info =  [s.text for s in info1] + info\n",
    "\n",
    "    end_date1 =  driver.find_elements(By.XPATH, '//*[@id=\"list_coupon\"]/div/div[5]/div/div[1]/div[2]')\n",
    "    end_date =  [s.text for s in end_date1] + end_date\n",
    "\n",
    "    limit1 =  driver.find_elements(By.XPATH, '//*[@id=\"list_coupon\"]/div/div[5]/div/div[2]/div[2]')\n",
    "    limit =  [s.text for s in limit1] + limit\n",
    "\n",
    "    min1 =  driver.find_elements(By.XPATH, '//*[@id=\"list_coupon\"]/div/div[5]/div/div[3]/div[2]')\n",
    "    min =  [s.text for s in min1] + min\n",
    "\n",
    "    customer1 =  driver.find_elements(By.XPATH, '//*[@id=\"list_coupon\"]/div/div[5]/div/div[4]/div[2]')\n",
    "    customer =  [s.text for s in customer1] + customer\n",
    "\n",
    "\n",
    "\n",
    "    print(end_date)\n",
    "    \n",
    "    coinmarketcap1 = pd.DataFrame(list(zip(brand, info, end_date, limit, min, customer)),\n",
    "                        columns=['brand', 'info', 'end_date', 'limit', 'min', 'customer']) \n",
    "    print(\"Crawl Complete\")\n",
    "    return coinmarketcap1\n",
    "\n",
    "url = 'https://iprice.vn/coupons/'\n",
    "df = getCoinInfo(url)\n",
    "driver.close()"
   ]
  },
  {
   "cell_type": "code",
   "execution_count": 127,
   "metadata": {},
   "outputs": [],
   "source": [
    "# Lấy file CSV\n",
    "df_unique = df.drop_duplicates(keep='first')\n",
    "df_unique.to_csv('D://Exam/Coin.csv', index=False)\n"
   ]
  },
  {
   "cell_type": "code",
   "execution_count": null,
   "metadata": {},
   "outputs": [],
   "source": [
    "//*[@id=\"list_coupon\"]/div[1]/div[5]/label\n",
    "//*[@id=\"list_coupon\"]/div[2]/div[5]/div[1]/label\n",
    "//*[@id=\"list_coupon\"]/div[3]/div[5]/label"
   ]
  }
 ],
 "metadata": {
  "kernelspec": {
   "display_name": "Python 3",
   "language": "python",
   "name": "python3"
  },
  "language_info": {
   "codemirror_mode": {
    "name": "ipython",
    "version": 3
   },
   "file_extension": ".py",
   "mimetype": "text/x-python",
   "name": "python",
   "nbconvert_exporter": "python",
   "pygments_lexer": "ipython3",
   "version": "3.12.6"
  }
 },
 "nbformat": 4,
 "nbformat_minor": 2
}
