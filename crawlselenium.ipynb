{
 "cells": [
  {
   "cell_type": "code",
   "execution_count": 9,
   "metadata": {},
   "outputs": [],
   "source": [
    "import pandas as pd\n",
    "import time\n",
    "import numpy as np\n",
    "from selenium import webdriver\n",
    "from selenium.webdriver.chrome.service import Service\n",
    "from webdriver_manager.chrome import ChromeDriverManager\n",
    "from selenium.common.exceptions import NoSuchElementException, ElementNotInteractableException\n",
    "from selenium.webdriver.common.by import By\n",
    "from selenium.webdriver.support.ui import WebDriverWait\n",
    "from selenium.webdriver.support import expected_conditions as EC\n",
    "from selenium.common.exceptions import TimeoutException, NoSuchElementException"
   ]
  },
  {
   "cell_type": "code",
   "execution_count": 10,
   "metadata": {},
   "outputs": [],
   "source": [
    "service = Service(ChromeDriverManager().install())\n",
    "driver = webdriver.Chrome(service=service)"
   ]
  },
  {
   "cell_type": "code",
   "execution_count": 11,
   "metadata": {},
   "outputs": [
    {
     "name": "stdout",
     "output_type": "stream",
     "text": [
      "Clicked on button next page!\n",
      "Clicked on button next page!\n",
      "No more Load More button found or timeout reached.\n",
      "Crawl Complete\n"
     ]
    }
   ],
   "source": [
    "def getCoinInfo(link):\n",
    "    driver.get(link)\n",
    "    count = 1\n",
    "    rank, name, symbol, market_cap, price,  circulating_supply, volume, change_7d = [], [], [], [], [], [], [], []\n",
    "    i = 1\n",
    "\n",
    "    #Load tất cả các trang\n",
    "    while True:\n",
    "        try:\n",
    "            # Chờ nút Load More hiển thị và có thể nhấn\n",
    "            next_pagination_cmt = WebDriverWait(driver, 10).until(\n",
    "                EC.element_to_be_clickable((By.XPATH, \"/html/body/div[1]/div[2]/div[2]/div/div[1]/div[3]/div[2]/button\"))\n",
    "            )\n",
    "            # Nhấp vào nút\n",
    "            next_pagination_cmt.click()\n",
    "            print(\"Clicked on button next page!\")\n",
    "        except (TimeoutException, NoSuchElementException):\n",
    "            # Nếu không tìm thấy nút hoặc hết thời gian chờ, kết thúc vòng lặp\n",
    "            print(\"No more Load More button found or timeout reached.\")\n",
    "            break\n",
    "    screen_height = driver.execute_script(\"return window.screen.height;\")   # get the screen height of the web\n",
    "    \n",
    "    while True:\n",
    "        driver.execute_script(\"window.scrollTo(0, {screen_height}*{i});\".format(screen_height=screen_height, i=i))  \n",
    "        i += 1\n",
    "        time.sleep(5)\n",
    "        scroll_height = driver.execute_script(\"return document.body.scrollHeight;\")  \n",
    "        if (screen_height) * i > scroll_height:\n",
    "            break \n",
    "\n",
    "    rank1 =  driver.find_elements(By.XPATH, '//div[@class=\"cmc-table__table-wrapper-outer\"]//table/tbody/tr/td[1]')\n",
    "    rank =  [s.text for s in rank1] + rank\n",
    "    name1 =  driver.find_elements(By.XPATH, '//div[@class=\"cmc-table__table-wrapper-outer\"]//table/tbody/tr/td[2]')\n",
    "    name =  [s.text for s in name1] + name\n",
    "    symbol1 = driver.find_elements(By.XPATH, '//div[@class=\"cmc-table__table-wrapper-outer\"]//table/tbody/tr/td[3]')\n",
    "    symbol = [s.text for s in symbol1] + symbol\n",
    "    market_cap1 = driver.find_elements(By.XPATH, '//div[@class=\"cmc-table__table-wrapper-outer\"]//table/tbody/tr/td[4]')\n",
    "    market_cap =  [s.text for s in market_cap1] + market_cap\n",
    "    price1 =  driver.find_elements(By.XPATH, '//div[@class=\"cmc-table__table-wrapper-outer\"]//table/tbody/tr/td[5]')\n",
    "    price = [s.text for s in price1] + price\n",
    "    circulating_supply1 =  driver.find_elements(By.XPATH, '//div[@class=\"cmc-table__table-wrapper-outer\"]//table/tbody/tr/td[6]')\n",
    "    circulating_supply =  [s.text for s in circulating_supply1] + circulating_supply\n",
    "    volume1 =  driver.find_elements(By.XPATH, '//div[@class=\"cmc-table__table-wrapper-outer\"]//table/tbody/tr/td[7]')\n",
    "    volume =  [s.text for s in volume1] + volume\n",
    "    change_7d1 =  driver.find_elements(By.XPATH, '//div[@class=\"cmc-table__table-wrapper-outer\"]//table/tbody/tr/td[10]')\n",
    "    change_7d =  [s.text for s in change_7d1] + change_7d            \n",
    "                \n",
    "    coinmarketcap1 = pd.DataFrame(list(zip(rank, name, symbol, market_cap, price, circulating_supply,   volume,  change_7d)),\n",
    "                        columns=['rank', 'name', 'symbol', 'market_cap', 'price',  'circulating_supply', 'volume','change_7d']) \n",
    "    print(\"Crawl Complete\")\n",
    "    return coinmarketcap1\n",
    "\n",
    "url = 'https://coinmarketcap.com/historical/20141130/'\n",
    "df = getCoinInfo(url)\n",
    "driver.close()"
   ]
  },
  {
   "cell_type": "code",
   "execution_count": 13,
   "metadata": {},
   "outputs": [],
   "source": [
    "# Lấy file CSV\n",
    "df_unique = df.drop_duplicates(keep='first')\n",
    "df_unique.to_csv('D://Exam/Coin.csv', index=False)\n"
   ]
  }
 ],
 "metadata": {
  "kernelspec": {
   "display_name": "Python 3",
   "language": "python",
   "name": "python3"
  },
  "language_info": {
   "codemirror_mode": {
    "name": "ipython",
    "version": 3
   },
   "file_extension": ".py",
   "mimetype": "text/x-python",
   "name": "python",
   "nbconvert_exporter": "python",
   "pygments_lexer": "ipython3",
   "version": "3.12.3"
  }
 },
 "nbformat": 4,
 "nbformat_minor": 2
}
