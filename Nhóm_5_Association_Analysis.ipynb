{
  "nbformat": 4,
  "nbformat_minor": 0,
  "metadata": {
    "colab": {
      "provenance": [],
      "gpuType": "T4",
      "authorship_tag": "ABX9TyOFI1hnaT0LGxuN1dwwXwW4",
      "include_colab_link": true
    },
    "kernelspec": {
      "name": "python3",
      "display_name": "Python 3"
    },
    "language_info": {
      "name": "python"
    },
    "accelerator": "GPU"
  },
  "cells": [
    {
      "cell_type": "markdown",
      "metadata": {
        "id": "view-in-github",
        "colab_type": "text"
      },
      "source": [
        "<a href=\"https://colab.research.google.com/github/ducanha2k46/Exam/blob/main/Nho%CC%81m_5_Association_Analysis.ipynb\" target=\"_parent\"><img src=\"https://colab.research.google.com/assets/colab-badge.svg\" alt=\"Open In Colab\"/></a>"
      ]
    },
    {
      "cell_type": "markdown",
      "source": [
        "# Xử lý dữ liệu"
      ],
      "metadata": {
        "id": "Y9exmaaWOxHC"
      }
    },
    {
      "cell_type": "markdown",
      "source": [
        "## Khai báo thư viện"
      ],
      "metadata": {
        "id": "cPG6pzxUNuZT"
      }
    },
    {
      "cell_type": "code",
      "source": [
        "import pandas as pd\n",
        "from mlxtend.preprocessing import TransactionEncoder\n",
        "from mlxtend.frequent_patterns import apriori, association_rules, fpgrowth"
      ],
      "metadata": {
        "id": "2EWIvfdJNtsf"
      },
      "execution_count": 1,
      "outputs": []
    },
    {
      "cell_type": "markdown",
      "source": [
        "## Đọc dữ liệu"
      ],
      "metadata": {
        "id": "h5sLQ5t7NQ8y"
      }
    },
    {
      "cell_type": "code",
      "source": [
        "df = pd.read_excel('/content/Online Retail.xlsx')\n",
        "\n",
        "print(\"\\nDữ liệu:\")\n",
        "df.head(10)"
      ],
      "metadata": {
        "colab": {
          "base_uri": "https://localhost:8080/",
          "height": 399
        },
        "id": "j2M5t55F5qvE",
        "outputId": "6ae8abe7-a456-4895-d8de-eff0c8dbee31"
      },
      "execution_count": 2,
      "outputs": [
        {
          "output_type": "stream",
          "name": "stdout",
          "text": [
            "\n",
            "Dữ liệu:\n"
          ]
        },
        {
          "output_type": "execute_result",
          "data": {
            "text/plain": [
              "  InvoiceNo StockCode                          Description  Quantity  \\\n",
              "0    536365    85123A   WHITE HANGING HEART T-LIGHT HOLDER         6   \n",
              "1    536365     71053                  WHITE METAL LANTERN         6   \n",
              "2    536365    84406B       CREAM CUPID HEARTS COAT HANGER         8   \n",
              "3    536365    84029G  KNITTED UNION FLAG HOT WATER BOTTLE         6   \n",
              "4    536365    84029E       RED WOOLLY HOTTIE WHITE HEART.         6   \n",
              "5    536365     22752         SET 7 BABUSHKA NESTING BOXES         2   \n",
              "6    536365     21730    GLASS STAR FROSTED T-LIGHT HOLDER         6   \n",
              "7    536366     22633               HAND WARMER UNION JACK         6   \n",
              "8    536366     22632            HAND WARMER RED POLKA DOT         6   \n",
              "9    536367     84879        ASSORTED COLOUR BIRD ORNAMENT        32   \n",
              "\n",
              "          InvoiceDate  UnitPrice  CustomerID         Country  \n",
              "0 2010-12-01 08:26:00       2.55     17850.0  United Kingdom  \n",
              "1 2010-12-01 08:26:00       3.39     17850.0  United Kingdom  \n",
              "2 2010-12-01 08:26:00       2.75     17850.0  United Kingdom  \n",
              "3 2010-12-01 08:26:00       3.39     17850.0  United Kingdom  \n",
              "4 2010-12-01 08:26:00       3.39     17850.0  United Kingdom  \n",
              "5 2010-12-01 08:26:00       7.65     17850.0  United Kingdom  \n",
              "6 2010-12-01 08:26:00       4.25     17850.0  United Kingdom  \n",
              "7 2010-12-01 08:28:00       1.85     17850.0  United Kingdom  \n",
              "8 2010-12-01 08:28:00       1.85     17850.0  United Kingdom  \n",
              "9 2010-12-01 08:34:00       1.69     13047.0  United Kingdom  "
            ],
            "text/html": [
              "\n",
              "  <div id=\"df-d537ae94-aea7-4d59-93a3-dfd9e95791fd\" class=\"colab-df-container\">\n",
              "    <div>\n",
              "<style scoped>\n",
              "    .dataframe tbody tr th:only-of-type {\n",
              "        vertical-align: middle;\n",
              "    }\n",
              "\n",
              "    .dataframe tbody tr th {\n",
              "        vertical-align: top;\n",
              "    }\n",
              "\n",
              "    .dataframe thead th {\n",
              "        text-align: right;\n",
              "    }\n",
              "</style>\n",
              "<table border=\"1\" class=\"dataframe\">\n",
              "  <thead>\n",
              "    <tr style=\"text-align: right;\">\n",
              "      <th></th>\n",
              "      <th>InvoiceNo</th>\n",
              "      <th>StockCode</th>\n",
              "      <th>Description</th>\n",
              "      <th>Quantity</th>\n",
              "      <th>InvoiceDate</th>\n",
              "      <th>UnitPrice</th>\n",
              "      <th>CustomerID</th>\n",
              "      <th>Country</th>\n",
              "    </tr>\n",
              "  </thead>\n",
              "  <tbody>\n",
              "    <tr>\n",
              "      <th>0</th>\n",
              "      <td>536365</td>\n",
              "      <td>85123A</td>\n",
              "      <td>WHITE HANGING HEART T-LIGHT HOLDER</td>\n",
              "      <td>6</td>\n",
              "      <td>2010-12-01 08:26:00</td>\n",
              "      <td>2.55</td>\n",
              "      <td>17850.0</td>\n",
              "      <td>United Kingdom</td>\n",
              "    </tr>\n",
              "    <tr>\n",
              "      <th>1</th>\n",
              "      <td>536365</td>\n",
              "      <td>71053</td>\n",
              "      <td>WHITE METAL LANTERN</td>\n",
              "      <td>6</td>\n",
              "      <td>2010-12-01 08:26:00</td>\n",
              "      <td>3.39</td>\n",
              "      <td>17850.0</td>\n",
              "      <td>United Kingdom</td>\n",
              "    </tr>\n",
              "    <tr>\n",
              "      <th>2</th>\n",
              "      <td>536365</td>\n",
              "      <td>84406B</td>\n",
              "      <td>CREAM CUPID HEARTS COAT HANGER</td>\n",
              "      <td>8</td>\n",
              "      <td>2010-12-01 08:26:00</td>\n",
              "      <td>2.75</td>\n",
              "      <td>17850.0</td>\n",
              "      <td>United Kingdom</td>\n",
              "    </tr>\n",
              "    <tr>\n",
              "      <th>3</th>\n",
              "      <td>536365</td>\n",
              "      <td>84029G</td>\n",
              "      <td>KNITTED UNION FLAG HOT WATER BOTTLE</td>\n",
              "      <td>6</td>\n",
              "      <td>2010-12-01 08:26:00</td>\n",
              "      <td>3.39</td>\n",
              "      <td>17850.0</td>\n",
              "      <td>United Kingdom</td>\n",
              "    </tr>\n",
              "    <tr>\n",
              "      <th>4</th>\n",
              "      <td>536365</td>\n",
              "      <td>84029E</td>\n",
              "      <td>RED WOOLLY HOTTIE WHITE HEART.</td>\n",
              "      <td>6</td>\n",
              "      <td>2010-12-01 08:26:00</td>\n",
              "      <td>3.39</td>\n",
              "      <td>17850.0</td>\n",
              "      <td>United Kingdom</td>\n",
              "    </tr>\n",
              "    <tr>\n",
              "      <th>5</th>\n",
              "      <td>536365</td>\n",
              "      <td>22752</td>\n",
              "      <td>SET 7 BABUSHKA NESTING BOXES</td>\n",
              "      <td>2</td>\n",
              "      <td>2010-12-01 08:26:00</td>\n",
              "      <td>7.65</td>\n",
              "      <td>17850.0</td>\n",
              "      <td>United Kingdom</td>\n",
              "    </tr>\n",
              "    <tr>\n",
              "      <th>6</th>\n",
              "      <td>536365</td>\n",
              "      <td>21730</td>\n",
              "      <td>GLASS STAR FROSTED T-LIGHT HOLDER</td>\n",
              "      <td>6</td>\n",
              "      <td>2010-12-01 08:26:00</td>\n",
              "      <td>4.25</td>\n",
              "      <td>17850.0</td>\n",
              "      <td>United Kingdom</td>\n",
              "    </tr>\n",
              "    <tr>\n",
              "      <th>7</th>\n",
              "      <td>536366</td>\n",
              "      <td>22633</td>\n",
              "      <td>HAND WARMER UNION JACK</td>\n",
              "      <td>6</td>\n",
              "      <td>2010-12-01 08:28:00</td>\n",
              "      <td>1.85</td>\n",
              "      <td>17850.0</td>\n",
              "      <td>United Kingdom</td>\n",
              "    </tr>\n",
              "    <tr>\n",
              "      <th>8</th>\n",
              "      <td>536366</td>\n",
              "      <td>22632</td>\n",
              "      <td>HAND WARMER RED POLKA DOT</td>\n",
              "      <td>6</td>\n",
              "      <td>2010-12-01 08:28:00</td>\n",
              "      <td>1.85</td>\n",
              "      <td>17850.0</td>\n",
              "      <td>United Kingdom</td>\n",
              "    </tr>\n",
              "    <tr>\n",
              "      <th>9</th>\n",
              "      <td>536367</td>\n",
              "      <td>84879</td>\n",
              "      <td>ASSORTED COLOUR BIRD ORNAMENT</td>\n",
              "      <td>32</td>\n",
              "      <td>2010-12-01 08:34:00</td>\n",
              "      <td>1.69</td>\n",
              "      <td>13047.0</td>\n",
              "      <td>United Kingdom</td>\n",
              "    </tr>\n",
              "  </tbody>\n",
              "</table>\n",
              "</div>\n",
              "    <div class=\"colab-df-buttons\">\n",
              "\n",
              "  <div class=\"colab-df-container\">\n",
              "    <button class=\"colab-df-convert\" onclick=\"convertToInteractive('df-d537ae94-aea7-4d59-93a3-dfd9e95791fd')\"\n",
              "            title=\"Convert this dataframe to an interactive table.\"\n",
              "            style=\"display:none;\">\n",
              "\n",
              "  <svg xmlns=\"http://www.w3.org/2000/svg\" height=\"24px\" viewBox=\"0 -960 960 960\">\n",
              "    <path d=\"M120-120v-720h720v720H120Zm60-500h600v-160H180v160Zm220 220h160v-160H400v160Zm0 220h160v-160H400v160ZM180-400h160v-160H180v160Zm440 0h160v-160H620v160ZM180-180h160v-160H180v160Zm440 0h160v-160H620v160Z\"/>\n",
              "  </svg>\n",
              "    </button>\n",
              "\n",
              "  <style>\n",
              "    .colab-df-container {\n",
              "      display:flex;\n",
              "      gap: 12px;\n",
              "    }\n",
              "\n",
              "    .colab-df-convert {\n",
              "      background-color: #E8F0FE;\n",
              "      border: none;\n",
              "      border-radius: 50%;\n",
              "      cursor: pointer;\n",
              "      display: none;\n",
              "      fill: #1967D2;\n",
              "      height: 32px;\n",
              "      padding: 0 0 0 0;\n",
              "      width: 32px;\n",
              "    }\n",
              "\n",
              "    .colab-df-convert:hover {\n",
              "      background-color: #E2EBFA;\n",
              "      box-shadow: 0px 1px 2px rgba(60, 64, 67, 0.3), 0px 1px 3px 1px rgba(60, 64, 67, 0.15);\n",
              "      fill: #174EA6;\n",
              "    }\n",
              "\n",
              "    .colab-df-buttons div {\n",
              "      margin-bottom: 4px;\n",
              "    }\n",
              "\n",
              "    [theme=dark] .colab-df-convert {\n",
              "      background-color: #3B4455;\n",
              "      fill: #D2E3FC;\n",
              "    }\n",
              "\n",
              "    [theme=dark] .colab-df-convert:hover {\n",
              "      background-color: #434B5C;\n",
              "      box-shadow: 0px 1px 3px 1px rgba(0, 0, 0, 0.15);\n",
              "      filter: drop-shadow(0px 1px 2px rgba(0, 0, 0, 0.3));\n",
              "      fill: #FFFFFF;\n",
              "    }\n",
              "  </style>\n",
              "\n",
              "    <script>\n",
              "      const buttonEl =\n",
              "        document.querySelector('#df-d537ae94-aea7-4d59-93a3-dfd9e95791fd button.colab-df-convert');\n",
              "      buttonEl.style.display =\n",
              "        google.colab.kernel.accessAllowed ? 'block' : 'none';\n",
              "\n",
              "      async function convertToInteractive(key) {\n",
              "        const element = document.querySelector('#df-d537ae94-aea7-4d59-93a3-dfd9e95791fd');\n",
              "        const dataTable =\n",
              "          await google.colab.kernel.invokeFunction('convertToInteractive',\n",
              "                                                    [key], {});\n",
              "        if (!dataTable) return;\n",
              "\n",
              "        const docLinkHtml = 'Like what you see? Visit the ' +\n",
              "          '<a target=\"_blank\" href=https://colab.research.google.com/notebooks/data_table.ipynb>data table notebook</a>'\n",
              "          + ' to learn more about interactive tables.';\n",
              "        element.innerHTML = '';\n",
              "        dataTable['output_type'] = 'display_data';\n",
              "        await google.colab.output.renderOutput(dataTable, element);\n",
              "        const docLink = document.createElement('div');\n",
              "        docLink.innerHTML = docLinkHtml;\n",
              "        element.appendChild(docLink);\n",
              "      }\n",
              "    </script>\n",
              "  </div>\n",
              "\n",
              "\n",
              "<div id=\"df-3d5274b2-8f23-4352-b5b4-20ddaaf4967b\">\n",
              "  <button class=\"colab-df-quickchart\" onclick=\"quickchart('df-3d5274b2-8f23-4352-b5b4-20ddaaf4967b')\"\n",
              "            title=\"Suggest charts\"\n",
              "            style=\"display:none;\">\n",
              "\n",
              "<svg xmlns=\"http://www.w3.org/2000/svg\" height=\"24px\"viewBox=\"0 0 24 24\"\n",
              "     width=\"24px\">\n",
              "    <g>\n",
              "        <path d=\"M19 3H5c-1.1 0-2 .9-2 2v14c0 1.1.9 2 2 2h14c1.1 0 2-.9 2-2V5c0-1.1-.9-2-2-2zM9 17H7v-7h2v7zm4 0h-2V7h2v10zm4 0h-2v-4h2v4z\"/>\n",
              "    </g>\n",
              "</svg>\n",
              "  </button>\n",
              "\n",
              "<style>\n",
              "  .colab-df-quickchart {\n",
              "      --bg-color: #E8F0FE;\n",
              "      --fill-color: #1967D2;\n",
              "      --hover-bg-color: #E2EBFA;\n",
              "      --hover-fill-color: #174EA6;\n",
              "      --disabled-fill-color: #AAA;\n",
              "      --disabled-bg-color: #DDD;\n",
              "  }\n",
              "\n",
              "  [theme=dark] .colab-df-quickchart {\n",
              "      --bg-color: #3B4455;\n",
              "      --fill-color: #D2E3FC;\n",
              "      --hover-bg-color: #434B5C;\n",
              "      --hover-fill-color: #FFFFFF;\n",
              "      --disabled-bg-color: #3B4455;\n",
              "      --disabled-fill-color: #666;\n",
              "  }\n",
              "\n",
              "  .colab-df-quickchart {\n",
              "    background-color: var(--bg-color);\n",
              "    border: none;\n",
              "    border-radius: 50%;\n",
              "    cursor: pointer;\n",
              "    display: none;\n",
              "    fill: var(--fill-color);\n",
              "    height: 32px;\n",
              "    padding: 0;\n",
              "    width: 32px;\n",
              "  }\n",
              "\n",
              "  .colab-df-quickchart:hover {\n",
              "    background-color: var(--hover-bg-color);\n",
              "    box-shadow: 0 1px 2px rgba(60, 64, 67, 0.3), 0 1px 3px 1px rgba(60, 64, 67, 0.15);\n",
              "    fill: var(--button-hover-fill-color);\n",
              "  }\n",
              "\n",
              "  .colab-df-quickchart-complete:disabled,\n",
              "  .colab-df-quickchart-complete:disabled:hover {\n",
              "    background-color: var(--disabled-bg-color);\n",
              "    fill: var(--disabled-fill-color);\n",
              "    box-shadow: none;\n",
              "  }\n",
              "\n",
              "  .colab-df-spinner {\n",
              "    border: 2px solid var(--fill-color);\n",
              "    border-color: transparent;\n",
              "    border-bottom-color: var(--fill-color);\n",
              "    animation:\n",
              "      spin 1s steps(1) infinite;\n",
              "  }\n",
              "\n",
              "  @keyframes spin {\n",
              "    0% {\n",
              "      border-color: transparent;\n",
              "      border-bottom-color: var(--fill-color);\n",
              "      border-left-color: var(--fill-color);\n",
              "    }\n",
              "    20% {\n",
              "      border-color: transparent;\n",
              "      border-left-color: var(--fill-color);\n",
              "      border-top-color: var(--fill-color);\n",
              "    }\n",
              "    30% {\n",
              "      border-color: transparent;\n",
              "      border-left-color: var(--fill-color);\n",
              "      border-top-color: var(--fill-color);\n",
              "      border-right-color: var(--fill-color);\n",
              "    }\n",
              "    40% {\n",
              "      border-color: transparent;\n",
              "      border-right-color: var(--fill-color);\n",
              "      border-top-color: var(--fill-color);\n",
              "    }\n",
              "    60% {\n",
              "      border-color: transparent;\n",
              "      border-right-color: var(--fill-color);\n",
              "    }\n",
              "    80% {\n",
              "      border-color: transparent;\n",
              "      border-right-color: var(--fill-color);\n",
              "      border-bottom-color: var(--fill-color);\n",
              "    }\n",
              "    90% {\n",
              "      border-color: transparent;\n",
              "      border-bottom-color: var(--fill-color);\n",
              "    }\n",
              "  }\n",
              "</style>\n",
              "\n",
              "  <script>\n",
              "    async function quickchart(key) {\n",
              "      const quickchartButtonEl =\n",
              "        document.querySelector('#' + key + ' button');\n",
              "      quickchartButtonEl.disabled = true;  // To prevent multiple clicks.\n",
              "      quickchartButtonEl.classList.add('colab-df-spinner');\n",
              "      try {\n",
              "        const charts = await google.colab.kernel.invokeFunction(\n",
              "            'suggestCharts', [key], {});\n",
              "      } catch (error) {\n",
              "        console.error('Error during call to suggestCharts:', error);\n",
              "      }\n",
              "      quickchartButtonEl.classList.remove('colab-df-spinner');\n",
              "      quickchartButtonEl.classList.add('colab-df-quickchart-complete');\n",
              "    }\n",
              "    (() => {\n",
              "      let quickchartButtonEl =\n",
              "        document.querySelector('#df-3d5274b2-8f23-4352-b5b4-20ddaaf4967b button');\n",
              "      quickchartButtonEl.style.display =\n",
              "        google.colab.kernel.accessAllowed ? 'block' : 'none';\n",
              "    })();\n",
              "  </script>\n",
              "</div>\n",
              "\n",
              "    </div>\n",
              "  </div>\n"
            ],
            "application/vnd.google.colaboratory.intrinsic+json": {
              "type": "dataframe",
              "variable_name": "df"
            }
          },
          "metadata": {},
          "execution_count": 2
        }
      ]
    },
    {
      "cell_type": "markdown",
      "source": [
        "Danh sách giao dịch:\n",
        "- Đã được chuyển đổi theo dạng InvoiceNo và các Items giao dịch tương ứng.\n"
      ],
      "metadata": {
        "id": "SA9UP3yTNaA0"
      }
    },
    {
      "cell_type": "code",
      "source": [
        "transactions = df.groupby('InvoiceNo')['StockCode'].apply(list).reset_index(name='items')\n",
        "\n",
        "\n",
        "print(\"\\nSố lượng giao dịch:\")\n",
        "print(len(transactions))\n",
        "\n",
        "print(\"\\nDanh sách giao dịch:\")\n",
        "print(transactions.head())"
      ],
      "metadata": {
        "colab": {
          "base_uri": "https://localhost:8080/"
        },
        "id": "1Xk-aeVj5vHK",
        "outputId": "406ec911-1905-4669-c4d0-b928ff6ec693"
      },
      "execution_count": 3,
      "outputs": [
        {
          "output_type": "stream",
          "name": "stdout",
          "text": [
            "\n",
            "Số lượng giao dịch:\n",
            "25900\n",
            "\n",
            "Danh sách giao dịch:\n",
            "  InvoiceNo                                              items\n",
            "0    536365  [85123A, 71053, 84406B, 84029G, 84029E, 22752,...\n",
            "1    536366                                     [22633, 22632]\n",
            "2    536367  [84879, 22745, 22748, 22749, 22310, 84969, 226...\n",
            "3    536368                       [22960, 22913, 22912, 22914]\n",
            "4    536369                                            [21756]\n"
          ]
        }
      ]
    },
    {
      "cell_type": "markdown",
      "source": [
        "Chuyển danh sách giao dịch về ma trận nhị phân.\n",
        "Mỗi cột là mã sản phẩm:\n",
        "- True: Có mua\n",
        "- False: Không mua"
      ],
      "metadata": {
        "id": "NKfuGlA5N8wJ"
      }
    },
    {
      "cell_type": "code",
      "source": [
        "transactions['items'] = transactions['items'].apply(lambda x: [str(item) for item in x])\n",
        "\n",
        "te = TransactionEncoder()\n",
        "te_ary = te.fit(transactions['items']).transform(transactions['items'])\n",
        "df_encoded = pd.DataFrame(te_ary, columns=te.columns_)\n",
        "print(\"\\nMa trận nhị phân:\")\n",
        "print(df_encoded.head())"
      ],
      "metadata": {
        "id": "uFYfF9Qe67w_",
        "colab": {
          "base_uri": "https://localhost:8080/"
        },
        "outputId": "1deb1ec9-9df5-42f0-8a0b-3a132e914998"
      },
      "execution_count": 4,
      "outputs": [
        {
          "output_type": "stream",
          "name": "stdout",
          "text": [
            "\n",
            "Ma trận nhị phân:\n",
            "   10002  10080  10120  10123C  10123G  10124A  10124G  10125  10133  10134  \\\n",
            "0  False  False  False   False   False   False   False  False  False  False   \n",
            "1  False  False  False   False   False   False   False  False  False  False   \n",
            "2  False  False  False   False   False   False   False  False  False  False   \n",
            "3  False  False  False   False   False   False   False  False  False  False   \n",
            "4  False  False  False   False   False   False   False  False  False  False   \n",
            "\n",
            "   ...      M   PADS   POST      S  gift_0001_10  gift_0001_20  gift_0001_30  \\\n",
            "0  ...  False  False  False  False         False         False         False   \n",
            "1  ...  False  False  False  False         False         False         False   \n",
            "2  ...  False  False  False  False         False         False         False   \n",
            "3  ...  False  False  False  False         False         False         False   \n",
            "4  ...  False  False  False  False         False         False         False   \n",
            "\n",
            "   gift_0001_40  gift_0001_50      m  \n",
            "0         False         False  False  \n",
            "1         False         False  False  \n",
            "2         False         False  False  \n",
            "3         False         False  False  \n",
            "4         False         False  False  \n",
            "\n",
            "[5 rows x 4070 columns]\n"
          ]
        }
      ]
    },
    {
      "cell_type": "markdown",
      "source": [
        "\n",
        "# 🧠 Giải thích các chỉ số trong Association Rule Mining\n",
        "\n",
        "## 1. Antecedents và Consequents\n",
        "- **Antecedents** (*tiền đề*): Là tập mục (itemset) xuất hiện trước trong một luật kết hợp.\n",
        "- **Consequents** (*hệ quả*): Là tập mục xuất hiện sau, khi điều kiện của antecedents được thỏa mãn.\n",
        "\n",
        "**Ví dụ:**  \n",
        "Nếu luật là `{sữa} => {bánh mì}`, thì:\n",
        "- Antecedent: `{sữa}`\n",
        "- Consequent: `{bánh mì}`\n",
        "\n",
        "---\n",
        "\n",
        "## 2. Support (Độ hỗ trợ)\n",
        "- Là **tần suất** xuất hiện của cả antecedent và consequent trong toàn bộ tập dữ liệu.\n",
        "\n",
        "**Công thức:**\n",
        "```\n",
        "Support(A ⇒ B) = Số giao dịch chứa cả A và B / Tổng số giao dịch\n",
        "```\n",
        "\n",
        "**Ý nghĩa:**  \n",
        "Luật này có phổ biến trong dữ liệu hay không.\n",
        "\n",
        "---\n",
        "\n",
        "## 3. Confidence (Độ tin cậy)\n",
        "- Là xác suất mà Consequent xảy ra khi Antecedent đã xảy ra.\n",
        "\n",
        "**Công thức:**\n",
        "```\n",
        "Confidence(A ⇒ B) = Support(A ∪ B) / Support(A)\n",
        "```\n",
        "\n",
        "**Ý nghĩa:**  \n",
        "Khi A xảy ra, khả năng B xảy ra là bao nhiêu phần trăm.\n",
        "\n",
        "---\n",
        "\n",
        "## 4. Lift (Độ nâng)\n",
        "- Đo lường mức độ **liên kết thực sự** giữa A và B so với khi chúng độc lập.\n",
        "\n",
        "**Công thức:**\n",
        "```\n",
        "Lift(A ⇒ B) = Confidence(A ⇒ B) / Support(B)\n",
        "```\n",
        "\n",
        "**Ý nghĩa:**\n",
        "- **Lift = 1**: A và B **độc lập**, không ảnh hưởng đến nhau.\n",
        "- **Lift > 1**: A và B **có mối quan hệ tích cực** (đồng xuất hiện nhiều hơn mong đợi).\n",
        "- **Lift < 1**: A và B **có mối quan hệ tiêu cực** (ít xảy ra cùng nhau hơn mong đợi).\n",
        "\n",
        "\n"
      ],
      "metadata": {
        "id": "dr8pECoHWT_a"
      }
    },
    {
      "cell_type": "markdown",
      "source": [
        "# APRIORI ALGORITHM"
      ],
      "metadata": {
        "id": "e_CzzoQCNMUg"
      }
    },
    {
      "cell_type": "markdown",
      "source": [
        "Các tập hợp mặt hàng thường xuyên \\\n",
        "Áp dụng thuật toán Aprioti để tìm tập hợp mặt hàng thường xuyên \\\n",
        "min_support=0.015 (xuất hiện trong ít nhất 1.5% giao dịch)"
      ],
      "metadata": {
        "id": "H4_GSgiFOUUz"
      }
    },
    {
      "cell_type": "code",
      "source": [
        "frequent_itemsets = apriori(df_encoded, min_support=0.01, use_colnames=True)\n",
        "\n",
        "print(\"\\nCác tập hợp mặt hàng thường xuyên:\")\n",
        "print(frequent_itemsets)"
      ],
      "metadata": {
        "id": "gl5nZRX2OT7y"
      },
      "execution_count": null,
      "outputs": []
    },
    {
      "cell_type": "markdown",
      "source": [
        "Tạo luật kết hợp từ tập hợp thường xuyên \\\\\n",
        "min_threshold=0.3 (confidence tối thiểu 30%)"
      ],
      "metadata": {
        "id": "wesaylnnTVxu"
      }
    },
    {
      "cell_type": "code",
      "source": [
        "if frequent_itemsets.empty:\n",
        "    print(\"Không tìm thấy tập hợp mặt hàng thường xuyên nào với min_support=0.015.\")\n",
        "else:\n",
        "    rules = association_rules(frequent_itemsets, metric=\"confidence\", min_threshold=0.3)\n",
        "    if rules.empty:\n",
        "        print(\"\\nKhông tìm thấy luật kết hợp nào với min_threshold=0.3.\")\n",
        "    else:\n",
        "        print(\"\\nCác luật kết hợp (Apriori):\")\n",
        "        print(rules[['antecedents', 'consequents', 'support', 'confidence', 'lift']])\n",
        "        rules_sorted = rules.sort_values(['confidence', 'lift'], ascending=[False, False])\n",
        "        print(\"\\nCác luật kết hợp được sắp xếp:\")\n",
        "        print(rules_sorted[['antecedents', 'consequents', 'support', 'confidence', 'lift']])"
      ],
      "metadata": {
        "id": "cxhhCGw27Eyf"
      },
      "execution_count": null,
      "outputs": []
    },
    {
      "cell_type": "markdown",
      "source": [
        "# FP-Growth"
      ],
      "metadata": {
        "id": "5rRUC6zmSqGo"
      }
    },
    {
      "cell_type": "markdown",
      "source": [
        "Các tập hợp mặt hàng thường xuyên \\\\\n",
        "Áp dụng thuật toán FP-Growth để tìm tập hợp mặt hàng thường xuyên \\\\\n",
        "min_support=0.015 (xuất hiện trong ít nhất 1% giao dịch)"
      ],
      "metadata": {
        "id": "KTKQtH5WSxtI"
      }
    },
    {
      "cell_type": "code",
      "source": [
        "frequent_itemsets = fpgrowth(df_encoded, min_support=0.01, use_colnames=True)\n",
        "\n",
        "print(\"\\nCác tập hợp mặt hàng thường xuyên (FP-Growth):\")\n",
        "print(frequent_itemsets)"
      ],
      "metadata": {
        "id": "9BJ4G1lOSx13"
      },
      "execution_count": null,
      "outputs": []
    },
    {
      "cell_type": "markdown",
      "source": [
        "Tạo luật kết hợp từ tập hợp thường xuyên \\\\\n",
        "min_threshold=0.3 (confidence tối thiểu 30%)"
      ],
      "metadata": {
        "id": "mq7u1ToJTQwr"
      }
    },
    {
      "cell_type": "code",
      "source": [
        "if frequent_itemsets.empty:\n",
        "    print(\"Không tìm thấy tập hợp mặt hàng thường xuyên nào với min_support=0.015\")\n",
        "else:\n",
        "\n",
        "    rules = association_rules(frequent_itemsets, metric=\"confidence\", min_threshold=0.01)\n",
        "\n",
        "    if rules.empty:\n",
        "        print(\"\\nKhông tìm thấy luật kết hợp nào với min_threshold=0.3.\")\n",
        "    else:\n",
        "        print(\"\\nCác luật kết hợp (FP-Growth):\")\n",
        "        print(rules[['antecedents', 'consequents', 'support', 'confidence', 'lift']])\n",
        "\n",
        "        rules_sorted = rules.sort_values(['confidence', 'lift'], ascending=[False, False])\n",
        "        print(\"\\nCác luật kết hợp được sắp xếp:\")\n",
        "        print(rules_sorted[['antecedents', 'consequents', 'support', 'confidence', 'lift']])"
      ],
      "metadata": {
        "id": "37Dhhp4ELzLy"
      },
      "execution_count": null,
      "outputs": []
    },
    {
      "cell_type": "markdown",
      "source": [
        "\n",
        "# 🔍 So sánh kết quả của Apriori và FP-Growth\n",
        "\n",
        "## a. Số lượng luật\n",
        "- **Apriori**: 192 luật.  \n",
        "- **FP-Growth**: 429 luật.  \n",
        "\n",
        "**Nhận xét**: FP-Growth tạo ra nhiều luật hơn đáng kể. Điều này có thể do FP-Growth hiệu quả hơn trong việc xử lý dữ liệu và tìm kiếm các tập hợp mục thường xuyên (frequent itemsets), đặc biệt với các tập dữ liệu lớn hoặc phức tạp.\n",
        "\n",
        "---\n",
        "\n",
        "## b. Support\n",
        "- **Apriori**: Support dao động từ `0.015058` đến `0.021197`.  \n",
        "- **FP-Growth**: Support dao động từ `0.018919` đến `0.021197`.  \n",
        "\n",
        "**Nhận xét**: FP-Growth tìm được các luật với support cao hơn (tối thiểu `0.018919` so với `0.015058` của Apriori).\n",
        "\n",
        "---\n",
        "\n",
        "## c. Confidence\n",
        "- **Apriori**: Confidence từ `0.300122` đến `0.894137`.  \n",
        "- **FP-Growth**: Confidence từ `0.304726` đến `0.894137`.  \n",
        "\n",
        "**Nhận xét**: Cả hai thuật toán cho ra các luật với confidence tương đương\n",
        "\n",
        "---\n",
        "\n",
        "## d. Lift\n",
        "\n",
        "**Nhận xét**: FP-Growth tìm được các luật với lift cao hơn nhiều (tối đa `60.260387` so với `22.614223` của Apriori). Điều này cho thấy FP-Growth có khả năng phát hiện các mối quan hệ mạnh hơn giữa các sản phẩm.\n",
        "\n",
        "---\n",
        "\n",
        "## e. Các luật cụ thể\n",
        "Một số luật xuất hiện ở cả hai kết quả, ví dụ:  \n",
        "- `(22699, 22698) → (22697)` có ở cả Apriori (luật 187) và FP-Growth (luật 700), với các giá trị support, confidence, và lift gần giống nhau.\n",
        "\n",
        "Tuy nhiên, FP-Growth tìm được các luật phức tạp hơn với nhiều mục hơn ở vế trái, ví dụ:  \n",
        "- `(22699, 22423, 22698) → (22697)`, điều mà Apriori không tìm thấy trong 192 luật của nó.\n"
      ],
      "metadata": {
        "id": "-4EOr8nVTsRk"
      }
    }
  ]
}